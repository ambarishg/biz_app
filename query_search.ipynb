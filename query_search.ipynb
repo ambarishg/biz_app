{
 "cells": [
  {
   "cell_type": "code",
   "execution_count": 3,
   "metadata": {},
   "outputs": [],
   "source": [
    "from azure.search.documents.indexes import SearchIndexClient\n",
    "from azure.search.documents.indexes.models import *\n",
    "from azure.search.documents import SearchClient\n",
    "from azure.core.credentials import AzureKeyCredential"
   ]
  },
  {
   "cell_type": "code",
   "execution_count": 4,
   "metadata": {},
   "outputs": [],
   "source": [
    "from config_openai import *"
   ]
  },
  {
   "cell_type": "code",
   "execution_count": 5,
   "metadata": {},
   "outputs": [],
   "source": [
    "verbose = True\n",
    "search_creds = AzureKeyCredential(searchkey)"
   ]
  },
  {
   "cell_type": "code",
   "execution_count": 6,
   "metadata": {},
   "outputs": [],
   "source": [
    "def get_search_indexes():\n",
    "    index_client = SearchIndexClient(endpoint=f\"https://{searchservice}.search.windows.net/\",\n",
    "                                     credential=search_creds)\n",
    "    print(\"The Search Indexes are :\")\n",
    "    for index in index_client.list_index_names():\n",
    "        print(index)"
   ]
  },
  {
   "cell_type": "code",
   "execution_count": 7,
   "metadata": {},
   "outputs": [],
   "source": [
    "def create_search_index():\n",
    "    if verbose: print(f\"Ensuring search index {index} exists\")\n",
    "    index_client = SearchIndexClient(endpoint=f\"https://{searchservice}.search.windows.net/\",\n",
    "                                     credential=search_creds)\n",
    "    if index not in index_client.list_index_names():\n",
    "        search_index = SearchIndex(\n",
    "            name=index,\n",
    "            fields=[\n",
    "                SimpleField(name=\"id\", type=\"Edm.String\", key=True),\n",
    "                SearchableField(name=\"content\", type=\"Edm.String\", analyzer_name=\"en.microsoft\"),\n",
    "                SimpleField(name=\"category\", type=\"Edm.String\", filterable=True, facetable=True),\n",
    "                SimpleField(name=\"sourcepage\", type=\"Edm.String\", filterable=True, facetable=True),\n",
    "                SimpleField(name=\"sourcefile\", type=\"Edm.String\", filterable=True, facetable=True)\n",
    "            ],\n",
    "            semantic_settings=SemanticSettings(\n",
    "                configurations=[SemanticConfiguration(\n",
    "                    name='default',\n",
    "                    prioritized_fields=PrioritizedFields(\n",
    "                        title_field=None, prioritized_content_fields=[SemanticField(field_name='content')]))])\n",
    "        )\n",
    "        if verbose: print(f\"Creating {index} search index\")\n",
    "        index_client.create_index(search_index)\n",
    "    else:\n",
    "        if verbose: print(f\"Search index {index} already exists\")"
   ]
  },
  {
   "cell_type": "code",
   "execution_count": 8,
   "metadata": {},
   "outputs": [
    {
     "name": "stdout",
     "output_type": "stream",
     "text": [
      "Ensuring search index docs_search2 exists\n",
      "Creating docs_search2 search index\n"
     ]
    }
   ],
   "source": [
    "create_search_index()"
   ]
  },
  {
   "cell_type": "code",
   "execution_count": 9,
   "metadata": {},
   "outputs": [
    {
     "name": "stdout",
     "output_type": "stream",
     "text": [
      "The Search Indexes are :\n",
      "docs_search\n",
      "docs_search2\n"
     ]
    }
   ],
   "source": [
    "get_search_indexes()"
   ]
  }
 ],
 "metadata": {
  "kernelspec": {
   "display_name": ".venv",
   "language": "python",
   "name": "python3"
  },
  "language_info": {
   "codemirror_mode": {
    "name": "ipython",
    "version": 3
   },
   "file_extension": ".py",
   "mimetype": "text/x-python",
   "name": "python",
   "nbconvert_exporter": "python",
   "pygments_lexer": "ipython3",
   "version": "3.11.11"
  }
 },
 "nbformat": 4,
 "nbformat_minor": 2
}
