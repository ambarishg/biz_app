{
 "cells": [
  {
   "cell_type": "code",
   "execution_count": 1,
   "metadata": {},
   "outputs": [
    {
     "name": "stdout",
     "output_type": "stream",
     "text": [
      "location: eastus\n",
      "endpoint: https://openai-demo007.openai.azure.com/\n",
      "deployment_id: gpt-4o-mini\n",
      "searchservice: search-openai-demo-007\n",
      "index: docs_search2\n",
      "category: SEARCH\n"
     ]
    }
   ],
   "source": [
    "from azure_blob.azure_blob_helper import AzureBlobHelper\n",
    "from config_openai import *"
   ]
  },
  {
   "cell_type": "code",
   "execution_count": 2,
   "metadata": {},
   "outputs": [],
   "source": [
    "azure_blob_helper = AzureBlobHelper(AZ_ST_ACC_NAME,\n",
    "                                    AZ_ST_ACC_KEY,\n",
    "                                    AZ_ST_CONTAINER_NAME)"
   ]
  },
  {
   "cell_type": "code",
   "execution_count": 3,
   "metadata": {},
   "outputs": [
    {
     "data": {
      "text/plain": [
       "True"
      ]
     },
     "execution_count": 3,
     "metadata": {},
     "output_type": "execute_result"
    }
   ],
   "source": [
    "azure_blob_helper.upload_blob_from_path(file_path=\"data/2.txt\",\n",
    "                                        blob_name=\"002.txt\")"
   ]
  },
  {
   "cell_type": "code",
   "execution_count": 4,
   "metadata": {},
   "outputs": [
    {
     "data": {
      "text/plain": [
       "['002.txt', '1.txt']"
      ]
     },
     "execution_count": 4,
     "metadata": {},
     "output_type": "execute_result"
    }
   ],
   "source": [
    "azure_blob_helper.list_blob()"
   ]
  }
 ],
 "metadata": {
  "kernelspec": {
   "display_name": ".venv",
   "language": "python",
   "name": "python3"
  },
  "language_info": {
   "codemirror_mode": {
    "name": "ipython",
    "version": 3
   },
   "file_extension": ".py",
   "mimetype": "text/x-python",
   "name": "python",
   "nbconvert_exporter": "python",
   "pygments_lexer": "ipython3",
   "version": "3.11.11"
  }
 },
 "nbformat": 4,
 "nbformat_minor": 2
}
